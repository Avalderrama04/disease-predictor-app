{
 "cells": [
  {
   "cell_type": "code",
   "execution_count": 2,
   "metadata": {},
   "outputs": [
    {
     "name": "stdout",
     "output_type": "stream",
     "text": [
      "Requirement already satisfied: scikit-learn in /opt/anaconda3/envs/lol/lib/python3.9/site-packages (1.5.2)\n",
      "Requirement already satisfied: numpy>=1.19.5 in /opt/anaconda3/envs/lol/lib/python3.9/site-packages (from scikit-learn) (2.0.2)\n",
      "Requirement already satisfied: scipy>=1.6.0 in /opt/anaconda3/envs/lol/lib/python3.9/site-packages (from scikit-learn) (1.13.1)\n",
      "Requirement already satisfied: joblib>=1.2.0 in /opt/anaconda3/envs/lol/lib/python3.9/site-packages (from scikit-learn) (1.4.2)\n",
      "Requirement already satisfied: threadpoolctl>=3.1.0 in /opt/anaconda3/envs/lol/lib/python3.9/site-packages (from scikit-learn) (3.5.0)\n",
      "Note: you may need to restart the kernel to use updated packages.\n"
     ]
    }
   ],
   "source": [
    "pip install --upgrade scikit-learn\n"
   ]
  },
  {
   "cell_type": "code",
   "execution_count": 4,
   "metadata": {},
   "outputs": [
    {
     "name": "stdout",
     "output_type": "stream",
     "text": [
      "Collecting pandas\n",
      "  Using cached pandas-2.2.3-cp39-cp39-macosx_10_9_x86_64.whl.metadata (89 kB)\n",
      "Requirement already satisfied: numpy>=1.22.4 in /opt/anaconda3/envs/lol/lib/python3.9/site-packages (from pandas) (2.0.2)\n",
      "Requirement already satisfied: python-dateutil>=2.8.2 in /opt/anaconda3/envs/lol/lib/python3.9/site-packages (from pandas) (2.9.0.post0)\n",
      "Collecting pytz>=2020.1 (from pandas)\n",
      "  Using cached pytz-2024.2-py2.py3-none-any.whl.metadata (22 kB)\n",
      "Collecting tzdata>=2022.7 (from pandas)\n",
      "  Using cached tzdata-2024.2-py2.py3-none-any.whl.metadata (1.4 kB)\n",
      "Requirement already satisfied: six>=1.5 in /opt/anaconda3/envs/lol/lib/python3.9/site-packages (from python-dateutil>=2.8.2->pandas) (1.16.0)\n",
      "Using cached pandas-2.2.3-cp39-cp39-macosx_10_9_x86_64.whl (12.6 MB)\n",
      "Using cached pytz-2024.2-py2.py3-none-any.whl (508 kB)\n",
      "Using cached tzdata-2024.2-py2.py3-none-any.whl (346 kB)\n",
      "Installing collected packages: pytz, tzdata, pandas\n",
      "Successfully installed pandas-2.2.3 pytz-2024.2 tzdata-2024.2\n",
      "Note: you may need to restart the kernel to use updated packages.\n"
     ]
    }
   ],
   "source": [
    "pip install pandas"
   ]
  },
  {
   "cell_type": "code",
   "execution_count": 6,
   "metadata": {},
   "outputs": [],
   "source": [
    "import pandas as pd\n",
    "from sklearn.model_selection import train_test_split\n",
    "from sklearn.preprocessing import LabelEncoder\n",
    "from sklearn.linear_model import LogisticRegression\n",
    "from sklearn.metrics import classification_report\n",
    "import pickle\n",
    "from sklearn.metrics import accuracy_score, precision_score, recall_score, confusion_matrix, classification_report"
   ]
  },
  {
   "cell_type": "code",
   "execution_count": 3,
   "metadata": {},
   "outputs": [],
   "source": [
    "fp = '/Users/arthe/disease/disease-predictor-app/survey_lung_cancer.csv'\n",
    "dataset = pd.read_csv(fp)"
   ]
  },
  {
   "cell_type": "code",
   "execution_count": 4,
   "metadata": {},
   "outputs": [
    {
     "name": "stdout",
     "output_type": "stream",
     "text": [
      "<class 'pandas.core.frame.DataFrame'>\n",
      "RangeIndex: 309 entries, 0 to 308\n",
      "Data columns (total 16 columns):\n",
      " #   Column                 Non-Null Count  Dtype \n",
      "---  ------                 --------------  ----- \n",
      " 0   GENDER                 309 non-null    object\n",
      " 1   AGE                    309 non-null    int64 \n",
      " 2   SMOKING                309 non-null    int64 \n",
      " 3   YELLOW_FINGERS         309 non-null    int64 \n",
      " 4   ANXIETY                309 non-null    int64 \n",
      " 5   PEER_PRESSURE          309 non-null    int64 \n",
      " 6   CHRONIC DISEASE        309 non-null    int64 \n",
      " 7   FATIGUE                309 non-null    int64 \n",
      " 8   ALLERGY                309 non-null    int64 \n",
      " 9   WHEEZING               309 non-null    int64 \n",
      " 10  ALCOHOL CONSUMING      309 non-null    int64 \n",
      " 11  COUGHING               309 non-null    int64 \n",
      " 12  SHORTNESS OF BREATH    309 non-null    int64 \n",
      " 13  SWALLOWING DIFFICULTY  309 non-null    int64 \n",
      " 14  CHEST PAIN             309 non-null    int64 \n",
      " 15  LUNG_CANCER            309 non-null    object\n",
      "dtypes: int64(14), object(2)\n",
      "memory usage: 38.8+ KB\n"
     ]
    },
    {
     "data": {
      "text/plain": [
       "(None,\n",
       "   GENDER  AGE  SMOKING  YELLOW_FINGERS  ANXIETY  PEER_PRESSURE  \\\n",
       " 0      M   69        1               2        2              1   \n",
       " 1      M   74        2               1        1              1   \n",
       " 2      F   59        1               1        1              2   \n",
       " 3      M   63        2               2        2              1   \n",
       " 4      F   63        1               2        1              1   \n",
       " \n",
       "    CHRONIC DISEASE  FATIGUE  ALLERGY  WHEEZING  ALCOHOL CONSUMING  COUGHING  \\\n",
       " 0                1        2        1         2                  2         2   \n",
       " 1                2        2        2         1                  1         1   \n",
       " 2                1        2        1         2                  1         2   \n",
       " 3                1        1        1         1                  2         1   \n",
       " 4                1        1        1         2                  1         2   \n",
       " \n",
       "    SHORTNESS OF BREATH  SWALLOWING DIFFICULTY  CHEST PAIN LUNG_CANCER  \n",
       " 0                    2                      2           2         YES  \n",
       " 1                    2                      2           2         YES  \n",
       " 2                    2                      1           2          NO  \n",
       " 3                    1                      2           2          NO  \n",
       " 4                    2                      1           1          NO  ,\n",
       "        GENDER         AGE     SMOKING  YELLOW_FINGERS     ANXIETY  \\\n",
       " count     309  309.000000  309.000000      309.000000  309.000000   \n",
       " unique      2         NaN         NaN             NaN         NaN   \n",
       " top         M         NaN         NaN             NaN         NaN   \n",
       " freq      162         NaN         NaN             NaN         NaN   \n",
       " mean      NaN   62.673139    1.563107        1.569579    1.498382   \n",
       " std       NaN    8.210301    0.496806        0.495938    0.500808   \n",
       " min       NaN   21.000000    1.000000        1.000000    1.000000   \n",
       " 25%       NaN   57.000000    1.000000        1.000000    1.000000   \n",
       " 50%       NaN   62.000000    2.000000        2.000000    1.000000   \n",
       " 75%       NaN   69.000000    2.000000        2.000000    2.000000   \n",
       " max       NaN   87.000000    2.000000        2.000000    2.000000   \n",
       " \n",
       "         PEER_PRESSURE  CHRONIC DISEASE     FATIGUE     ALLERGY    WHEEZING  \\\n",
       " count      309.000000       309.000000  309.000000  309.000000  309.000000   \n",
       " unique            NaN              NaN         NaN         NaN         NaN   \n",
       " top               NaN              NaN         NaN         NaN         NaN   \n",
       " freq              NaN              NaN         NaN         NaN         NaN   \n",
       " mean         1.501618         1.504854    1.673139    1.556634    1.556634   \n",
       " std          0.500808         0.500787    0.469827    0.497588    0.497588   \n",
       " min          1.000000         1.000000    1.000000    1.000000    1.000000   \n",
       " 25%          1.000000         1.000000    1.000000    1.000000    1.000000   \n",
       " 50%          2.000000         2.000000    2.000000    2.000000    2.000000   \n",
       " 75%          2.000000         2.000000    2.000000    2.000000    2.000000   \n",
       " max          2.000000         2.000000    2.000000    2.000000    2.000000   \n",
       " \n",
       "         ALCOHOL CONSUMING    COUGHING  SHORTNESS OF BREATH  \\\n",
       " count          309.000000  309.000000           309.000000   \n",
       " unique                NaN         NaN                  NaN   \n",
       " top                   NaN         NaN                  NaN   \n",
       " freq                  NaN         NaN                  NaN   \n",
       " mean             1.556634    1.579288             1.640777   \n",
       " std              0.497588    0.494474             0.480551   \n",
       " min              1.000000    1.000000             1.000000   \n",
       " 25%              1.000000    1.000000             1.000000   \n",
       " 50%              2.000000    2.000000             2.000000   \n",
       " 75%              2.000000    2.000000             2.000000   \n",
       " max              2.000000    2.000000             2.000000   \n",
       " \n",
       "         SWALLOWING DIFFICULTY  CHEST PAIN LUNG_CANCER  \n",
       " count              309.000000  309.000000         309  \n",
       " unique                    NaN         NaN           2  \n",
       " top                       NaN         NaN         YES  \n",
       " freq                      NaN         NaN         270  \n",
       " mean                 1.469256    1.556634         NaN  \n",
       " std                  0.499863    0.497588         NaN  \n",
       " min                  1.000000    1.000000         NaN  \n",
       " 25%                  1.000000    1.000000         NaN  \n",
       " 50%                  1.000000    2.000000         NaN  \n",
       " 75%                  2.000000    2.000000         NaN  \n",
       " max                  2.000000    2.000000         NaN  )"
      ]
     },
     "execution_count": 4,
     "metadata": {},
     "output_type": "execute_result"
    }
   ],
   "source": [
    "data_info = dataset.info()\n",
    "data_head = dataset.head()\n",
    "data_summary = dataset.describe(include='all')\n",
    "\n",
    "data_info, data_head, data_summary"
   ]
  },
  {
   "cell_type": "markdown",
   "metadata": {},
   "source": [
    "# Data preprocessing\n",
    "\n",
    "- Encode categorical columns: gender and lung cancer\n",
    "- Scale age"
   ]
  },
  {
   "cell_type": "code",
   "execution_count": null,
   "metadata": {},
   "outputs": [
    {
     "name": "stdout",
     "output_type": "stream",
     "text": [
      "              precision    recall  f1-score   support\n",
      "\n",
      "   No Cancer       0.67      0.50      0.57         8\n",
      "      Cancer       0.93      0.96      0.95        54\n",
      "\n",
      "    accuracy                           0.90        62\n",
      "   macro avg       0.80      0.73      0.76        62\n",
      "weighted avg       0.89      0.90      0.90        62\n",
      "\n",
      "Model saved to /Users/arthe/disease/disease-predictor-app/lung_cancer_model.pkl\n"
     ]
    }
   ],
   "source": [
    "le_gender = LabelEncoder()\n",
    "dataset['GENDER'] = le_gender.fit_transform(dataset['GENDER'])  # M->1, F->0\n",
    "\n",
    "le_cancer = LabelEncoder()\n",
    "dataset['LUNG_CANCER'] = le_cancer.fit_transform(dataset['LUNG_CANCER'])  # YES->1, NO->0\n",
    "\n",
    "X = dataset.drop(columns=['LUNG_CANCER'])\n",
    "y = dataset['LUNG_CANCER']\n",
    "\n",
    "X_train, X_test, y_train, y_test = train_test_split(X, y, test_size=0.2, random_state=42, stratify=y)\n",
    "\n",
    "model = LogisticRegression(random_state=42, max_iter=500)\n",
    "model.fit(X_train, y_train)\n",
    "\n",
    "y_pred = model.predict(X_test)\n",
    "print(classification_report(y_test, y_pred, target_names=['No Cancer', 'Cancer']))\n",
    "\n",
    "model_path = '/Users/arthe/disease/disease-predictor-app/lung_cancer_model.pkl'  # Specify your desired output path\n",
    "with open(model_path, 'wb') as f:\n",
    "    pickle.dump(model, f)\n",
    "\n",
    "print(f\"Model saved to {model_path}\")"
   ]
  },
  {
   "cell_type": "markdown",
   "metadata": {},
   "source": []
  }
 ],
 "metadata": {
  "kernelspec": {
   "display_name": "lol",
   "language": "python",
   "name": "python3"
  },
  "language_info": {
   "codemirror_mode": {
    "name": "ipython",
    "version": 3
   },
   "file_extension": ".py",
   "mimetype": "text/x-python",
   "name": "python",
   "nbconvert_exporter": "python",
   "pygments_lexer": "ipython3",
   "version": "3.9.20"
  }
 },
 "nbformat": 4,
 "nbformat_minor": 2
}
